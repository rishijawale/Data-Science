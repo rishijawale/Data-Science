{
 "cells": [
  {
   "cell_type": "code",
   "execution_count": 3,
   "id": "e12da9b8-16c1-4da7-8f0b-cd572fc3f8a5",
   "metadata": {},
   "outputs": [],
   "source": [
    "import json"
   ]
  },
  {
   "cell_type": "code",
   "execution_count": 4,
   "id": "0e4a38e5-e475-4be3-9f23-749fcfe1a57e",
   "metadata": {},
   "outputs": [],
   "source": [
    "#Loading the data\n",
    "def load_data(filename):\n",
    "    with open(filename , \"r\") as f:\n",
    "        data = json.load(f)\n",
    "    return data"
   ]
  },
  {
   "cell_type": "code",
   "execution_count": 6,
   "id": "c780f9c6-9efe-4f81-a1cd-f421efcda6e6",
   "metadata": {},
   "outputs": [],
   "source": [
    "data = load_data(\"data.json\")"
   ]
  },
  {
   "cell_type": "code",
   "execution_count": 8,
   "id": "bfc7f34e-1c5d-4bbe-873d-1409361390db",
   "metadata": {},
   "outputs": [
    {
     "data": {
      "text/plain": [
       "{'users': [{'id': 1, 'name': 'Amit', 'friends': [2, 3], 'liked_pages': [101]},\n",
       "  {'id': 2, 'name': 'Priya', 'friends': [1, 4], 'liked_pages': [102]},\n",
       "  {'id': 3, 'name': 'Rahul', 'friends': [1], 'liked_pages': [101, 103]},\n",
       "  {'id': 4, 'name': 'Sara', 'friends': [2], 'liked_pages': [104]}],\n",
       " 'pages': [{'id': 101, 'name': 'Python Developers'},\n",
       "  {'id': 102, 'name': 'Data Science Enthusiasts'},\n",
       "  {'id': 103, 'name': 'AI & ML Community'},\n",
       "  {'id': 104, 'name': 'Web Dev Hub'}]}"
      ]
     },
     "execution_count": 8,
     "metadata": {},
     "output_type": "execute_result"
    }
   ],
   "source": [
    "data"
   ]
  },
  {
   "cell_type": "code",
   "execution_count": 10,
   "id": "544ffd8e-9363-4e69-abf0-2ad221d710ae",
   "metadata": {},
   "outputs": [
    {
     "data": {
      "text/plain": [
       "dict"
      ]
     },
     "execution_count": 10,
     "metadata": {},
     "output_type": "execute_result"
    }
   ],
   "source": [
    "type(data)"
   ]
  },
  {
   "cell_type": "code",
   "execution_count": 21,
   "id": "4a753ce3-f386-4b93-ae8f-934420201553",
   "metadata": {},
   "outputs": [],
   "source": [
    "def display_users(data):\n",
    "    print(\"Users and their connections/n\")\n",
    "    for users in data['users']:\n",
    "        print(f\"ID:{users['id']}-{users['name']}: is friends with :{users['friends']} and liked pages are {users['liked_pages']}\")\n",
    "    print(\"Pages Information\")\n",
    "    \n",
    "    for pages in data['pages']:\n",
    "        print(f\"{pages['id']}: {pages['name']}\")\n",
    "    "
   ]
  },
  {
   "cell_type": "code",
   "execution_count": 22,
   "id": "6226377f-82fb-4422-a23c-dc48976405ea",
   "metadata": {},
   "outputs": [
    {
     "name": "stdout",
     "output_type": "stream",
     "text": [
      "Users and their connections/n\n",
      "ID:1-Amit: is friends with :[2, 3] and liked pages are [101]\n",
      "ID:2-Priya: is friends with :[1, 4] and liked pages are [102]\n",
      "ID:3-Rahul: is friends with :[1] and liked pages are [101, 103]\n",
      "ID:4-Sara: is friends with :[2] and liked pages are [104]\n",
      "Pages Information\n",
      "101: Python Developers\n",
      "102: Data Science Enthusiasts\n",
      "103: AI & ML Community\n",
      "104: Web Dev Hub\n"
     ]
    }
   ],
   "source": [
    "display_users(data)"
   ]
  },
  {
   "cell_type": "code",
   "execution_count": null,
   "id": "fc1a0b9f-9df1-4c38-90cc-8742392e9e5d",
   "metadata": {},
   "outputs": [],
   "source": []
  }
 ],
 "metadata": {
  "kernelspec": {
   "display_name": "Python 3 (ipykernel)",
   "language": "python",
   "name": "python3"
  },
  "language_info": {
   "codemirror_mode": {
    "name": "ipython",
    "version": 3
   },
   "file_extension": ".py",
   "mimetype": "text/x-python",
   "name": "python",
   "nbconvert_exporter": "python",
   "pygments_lexer": "ipython3",
   "version": "3.13.5"
  }
 },
 "nbformat": 4,
 "nbformat_minor": 5
}
