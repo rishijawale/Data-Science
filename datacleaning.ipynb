{
 "cells": [
  {
   "cell_type": "code",
   "execution_count": 10,
   "id": "6cb5fce4-f8b3-4cc6-8b2e-5fb6207d49ba",
   "metadata": {},
   "outputs": [],
   "source": [
    "import json\n",
    "def clean_data(data):\n",
    "    data[\"users\"]= [user for user in data[\"users\"] if user[\"name\"].strip()]\n",
    "\n",
    "    for user in data[\"users\"]:\n",
    "        user['friends'] = list(set(user['friends']))\n",
    "\n",
    "        data['users'] = [user for user in data['users'] if user['friends'] or user['liked_pages']]\n",
    "\n",
    "        unique_pages = {}\n",
    "        for page in data['pages']:\n",
    "            unique_pages[page['id']] = page\n",
    "            data['pages']= list(unique_pages.values())\n",
    "    return data"
   ]
  },
  {
   "cell_type": "code",
   "execution_count": 11,
   "id": "cff8c958-d84c-4106-9e00-247b847fa90f",
   "metadata": {},
   "outputs": [
    {
     "name": "stdout",
     "output_type": "stream",
     "text": [
      "Data sucessfully cleaned\n"
     ]
    }
   ],
   "source": [
    "data = json.load(open(\"data2.json\"))\n",
    "data = clean_data(data)\n",
    "json.dump(data , open(\"cleaned_data.json\" ,\"w\"), indent = 4)\n",
    "print(\"Data sucessfully cleaned\")"
   ]
  },
  {
   "cell_type": "code",
   "execution_count": null,
   "id": "831c0b11-f27d-47cb-8fd1-43749891ad5e",
   "metadata": {},
   "outputs": [],
   "source": []
  }
 ],
 "metadata": {
  "kernelspec": {
   "display_name": "Python 3 (ipykernel)",
   "language": "python",
   "name": "python3"
  },
  "language_info": {
   "codemirror_mode": {
    "name": "ipython",
    "version": 3
   },
   "file_extension": ".py",
   "mimetype": "text/x-python",
   "name": "python",
   "nbconvert_exporter": "python",
   "pygments_lexer": "ipython3",
   "version": "3.13.5"
  }
 },
 "nbformat": 4,
 "nbformat_minor": 5
}
